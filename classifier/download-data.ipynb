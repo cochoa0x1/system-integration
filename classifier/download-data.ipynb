{
 "cells": [
  {
   "cell_type": "code",
   "execution_count": 8,
   "metadata": {
    "collapsed": true
   },
   "outputs": [],
   "source": [
    "from lxml import html\n",
    "import os\n",
    "import requests\n",
    "from subprocess import call"
   ]
  },
  {
   "cell_type": "code",
   "execution_count": 9,
   "metadata": {
    "collapsed": true
   },
   "outputs": [],
   "source": [
    "url ='https://hci.iwr.uni-heidelberg.de/node/6132/download/f4555b41a2d7c559c5c53310025aee8c'"
   ]
  },
  {
   "cell_type": "code",
   "execution_count": 10,
   "metadata": {},
   "outputs": [
    {
     "data": {
      "text/plain": [
       "0"
      ]
     },
     "execution_count": 10,
     "metadata": {},
     "output_type": "execute_result"
    }
   ],
   "source": [
    "call(['wget','--save-cookies=cookies.txt',url])"
   ]
  },
  {
   "cell_type": "code",
   "execution_count": 11,
   "metadata": {
    "collapsed": true
   },
   "outputs": [],
   "source": [
    "r = requests.get(url)\n",
    "r.raise_for_status()"
   ]
  },
  {
   "cell_type": "code",
   "execution_count": 12,
   "metadata": {
    "collapsed": true
   },
   "outputs": [],
   "source": [
    "tree = html.fromstring(r.text)"
   ]
  },
  {
   "cell_type": "code",
   "execution_count": 15,
   "metadata": {
    "collapsed": true
   },
   "outputs": [],
   "source": [
    "def maybe_dl(url):\n",
    "    name = url.split('/')[-1]\n",
    "    if name in os.listdir():\n",
    "        return\n",
    "    print('download', name)\n",
    "    call(['wget','--load-cookies=cookies.txt',url])\n",
    "    "
   ]
  },
  {
   "cell_type": "code",
   "execution_count": 16,
   "metadata": {},
   "outputs": [
    {
     "name": "stdout",
     "output_type": "stream",
     "text": [
      "0\n",
      "https://hci.iwr.uni-heidelberg.de/system/files/private/datasets/283804895/dataset_additional_riib.zip\n",
      "1\n",
      "https://hci.iwr.uni-heidelberg.de/system/files/private/datasets/470246335/dataset_additional_rgb.zip\n",
      "download dataset_additional_rgb.zip\n",
      "2\n",
      "https://hci.iwr.uni-heidelberg.de/system/files/private/datasets/1681105773/dataset_test_riib.zip.001\n",
      "download dataset_test_riib.zip.001\n",
      "3\n",
      "https://hci.iwr.uni-heidelberg.de/system/files/private/datasets/1944557291/dataset_test_riib.zip.002\n",
      "download dataset_test_riib.zip.002\n",
      "4\n",
      "https://hci.iwr.uni-heidelberg.de/system/files/private/datasets/1581131605/dataset_test_riib.zip.003\n",
      "download dataset_test_riib.zip.003\n",
      "5\n",
      "https://hci.iwr.uni-heidelberg.de/system/files/private/datasets/1444693807/dataset_test_riib.zip.004\n",
      "download dataset_test_riib.zip.004\n",
      "6\n",
      "https://hci.iwr.uni-heidelberg.de/system/files/private/datasets/1672418119/dataset_test_riib.zip.005\n",
      "download dataset_test_riib.zip.005\n",
      "7\n",
      "https://hci.iwr.uni-heidelberg.de/system/files/private/datasets/1441613972/dataset_test_riib.zip.006\n",
      "download dataset_test_riib.zip.006\n",
      "8\n",
      "https://hci.iwr.uni-heidelberg.de/system/files/private/datasets/1861771760/dataset_test_rgb.zip.001\n",
      "download dataset_test_rgb.zip.001\n",
      "9\n",
      "https://hci.iwr.uni-heidelberg.de/system/files/private/datasets/1886457574/dataset_test_rgb.zip.002\n",
      "download dataset_test_rgb.zip.002\n",
      "10\n",
      "https://hci.iwr.uni-heidelberg.de/system/files/private/datasets/1581800089/dataset_test_rgb.zip.003\n",
      "download dataset_test_rgb.zip.003\n",
      "11\n",
      "https://hci.iwr.uni-heidelberg.de/system/files/private/datasets/379276232/dataset_test_rgb.zip.004\n",
      "download dataset_test_rgb.zip.004\n",
      "12\n",
      "https://hci.iwr.uni-heidelberg.de/system/files/private/datasets/865572993/dataset_test_rgb.zip.005\n",
      "download dataset_test_rgb.zip.005\n",
      "13\n",
      "https://hci.iwr.uni-heidelberg.de/system/files/private/datasets/1883532915/dataset_test_rgb.zip.006\n",
      "download dataset_test_rgb.zip.006\n",
      "14\n",
      "https://hci.iwr.uni-heidelberg.de/system/files/private/datasets/1549636406/dataset_test_rgb.zip.007\n",
      "download dataset_test_rgb.zip.007\n",
      "15\n",
      "https://hci.iwr.uni-heidelberg.de/system/files/private/datasets/1430601510/dataset_train_riib.zip.001\n",
      "download dataset_train_riib.zip.001\n",
      "16\n",
      "https://hci.iwr.uni-heidelberg.de/system/files/private/datasets/1447506613/dataset_train_riib.zip.002\n",
      "download dataset_train_riib.zip.002\n",
      "17\n",
      "https://hci.iwr.uni-heidelberg.de/system/files/private/datasets/2125697332/dataset_train_riib.zip.003\n",
      "download dataset_train_riib.zip.003\n",
      "18\n",
      "https://hci.iwr.uni-heidelberg.de/system/files/private/datasets/194292996/dataset_train_riib.zip.004\n",
      "download dataset_train_riib.zip.004\n",
      "19\n",
      "https://hci.iwr.uni-heidelberg.de/system/files/private/datasets/1916835690/dataset_train_rgb.zip.001\n",
      "download dataset_train_rgb.zip.001\n",
      "20\n",
      "https://hci.iwr.uni-heidelberg.de/system/files/private/datasets/2004912193/dataset_train_rgb.zip.002\n",
      "download dataset_train_rgb.zip.002\n",
      "21\n",
      "https://hci.iwr.uni-heidelberg.de/system/files/private/datasets/384278926/dataset_train_rgb.zip.003\n",
      "download dataset_train_rgb.zip.003\n",
      "22\n",
      "https://hci.iwr.uni-heidelberg.de/system/files/private/datasets/759073144/dataset_train_rgb.zip.004\n",
      "download dataset_train_rgb.zip.004\n"
     ]
    }
   ],
   "source": [
    "for i,link in enumerate(tree.xpath('//*/table/*//a/@href')):\n",
    "    print(i)\n",
    "    maybe_dl(link)"
   ]
  },
  {
   "cell_type": "code",
   "execution_count": null,
   "metadata": {
    "collapsed": true
   },
   "outputs": [],
   "source": []
  }
 ],
 "metadata": {
  "kernelspec": {
   "display_name": "Python 3",
   "language": "python",
   "name": "python3"
  },
  "language_info": {
   "codemirror_mode": {
    "name": "ipython",
    "version": 3
   },
   "file_extension": ".py",
   "mimetype": "text/x-python",
   "name": "python",
   "nbconvert_exporter": "python",
   "pygments_lexer": "ipython3",
   "version": "3.6.1"
  }
 },
 "nbformat": 4,
 "nbformat_minor": 2
}
